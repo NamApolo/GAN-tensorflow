{
 "cells": [
  {
   "cell_type": "code",
   "execution_count": null,
   "metadata": {},
   "outputs": [],
   "source": [
    "import tensorflow as tf\n",
    "\n",
    "config = tf.ConfigProto()\n",
    "config.gpu_options.allow_growth = True\n",
    "sess = tf.Session()\n",
    "\n",
    "batch_size = 100\n",
    "epoch_num = 500\n",
    "clip = [-0.1, 0.1]\n",
    "lr = 0.0002\n",
    "CRITIC_NUM = 5"
   ]
  },
  {
   "cell_type": "code",
   "execution_count": null,
   "metadata": {},
   "outputs": [],
   "source": [
    "# 下載 dataset\n",
    "import os\n",
    "from urllib.request import urlretrieve\n",
    "url = \"https://www.cs.toronto.edu/~kriz/cifar-10-python.tar.gz\"\n",
    "tar_gz = '../cifar-10/cifar-10-python.tar.gz'\n",
    "if not os.path.isfile(tar_gz):\n",
    "    print('Downing data from %s' % url)\n",
    "    urlretrieve(url, tar_gz)"
   ]
  },
  {
   "cell_type": "code",
   "execution_count": null,
   "metadata": {},
   "outputs": [],
   "source": [
    "import tarfile\n",
    "import pickle\n",
    "import numpy as np\n",
    "train_X = []\n",
    "train_y = []\n",
    "with tarfile.open(tar_gz) as tarf:\n",
    "    for i in range(1, 6):\n",
    "        dataset = \"cifar-10-batches-py/data_batch_%d\"%i\n",
    "        print('load', dataset)\n",
    "        with tarf.extractfile(dataset) as f:\n",
    "            result = pickle.load(f, encoding='latin1')\n",
    "            print(result['data'].shape)\n",
    "            train_X.extend(np.moveaxis(result['data'].reshape(-1, 3, 32, 32) / 255 * 2 - 1, 1, 3))\n",
    "            train_y.extend(result['labels'])\n",
    "    train_X = np.float32(train_X)\n",
    "    train_y = np.float32(train_y)\n",
    "    dataset = 'cifar-10-batches-py/test_batch'\n",
    "    with tarf.extractfile(dataset) as f:\n",
    "        result = pickle.load(f, encoding='latin1')\n",
    "        test_X = np.float32(np.moveaxis(result['data'].reshape(-1, 3, 32, 32) / 255 * 2 - 1, 1, 3))\n",
    "        test_y = np.float32(result['labels'])\n",
    "print(train_X.shape)\n",
    "print(train_y.shape)\n",
    "print(test_X.shape)\n",
    "print(test_y.shape)"
   ]
  },
  {
   "cell_type": "code",
   "execution_count": null,
   "metadata": {},
   "outputs": [],
   "source": [
    "import matplotlib.pyplot as plt\n",
    "def showX(X, rows=1):\n",
    "    length = X.shape[0]\n",
    "    plt.figure(figsize=(length / rows, rows))\n",
    "    print(X.shape)\n",
    "    int_X = ((X+1)/2*255).clip(0, 255).astype('uint8')\n",
    "    print(int_X.shape)\n",
    "    for i in range(length):\n",
    "        plt.subplot(rows, length / rows, i + 1)\n",
    "        plt.imshow(int_X[i])\n",
    "        plt.axis('off')\n",
    "    plt.show()\n",
    "showX(train_X[100:110], rows=2)"
   ]
  },
  {
   "cell_type": "code",
   "execution_count": null,
   "metadata": {},
   "outputs": [],
   "source": [
    "def lrelu(x, leak=0.2):\n",
    "    return tf.maximum(x, x*0.2)"
   ]
  },
  {
   "cell_type": "code",
   "execution_count": null,
   "metadata": {},
   "outputs": [],
   "source": [
    "def discriminator(x, isTrain=True, reuse=False):\n",
    "    with tf.variable_scope('discriminator', reuse=reuse):\n",
    "        conv1 = tf.layers.conv2d(x, 64, [4, 4], strides=(2, 2), padding='same')\n",
    "        lrelu1 = lrelu(conv1)\n",
    "\n",
    "        conv2 = tf.layers.conv2d(lrelu1, 128, [4, 4], strides=(2, 2), padding='same')\n",
    "        lrelu2 = lrelu(tf.layers.batch_normalization(conv2, training=isTrain))\n",
    "\n",
    "        conv3 = tf.layers.conv2d(lrelu2, 256, [4, 4], strides=(2, 2), padding='same')\n",
    "        lrelu3 = lrelu(tf.layers.batch_normalization(conv3, training=isTrain))\n",
    "\n",
    "        conv4 = tf.layers.conv2d(lrelu3, 1, [4, 4], strides=(1, 1), padding='valid')\n",
    "        return conv4"
   ]
  },
  {
   "cell_type": "code",
   "execution_count": null,
   "metadata": {},
   "outputs": [],
   "source": [
    "def generator(z, isTrain=True, reuse=False):\n",
    "    with tf.variable_scope('generator', reuse=reuse):\n",
    "        conv1 = tf.layers.conv2d_transpose(z, 256, [4, 4], strides=(1, 1), padding='valid')\n",
    "        lrelu1 = tf.nn.relu(tf.layers.batch_normalization(conv1, training=isTrain))\n",
    "\n",
    "        conv2 = tf.layers.conv2d_transpose(lrelu1, 128, [4, 4], strides=(2, 2), padding='same')\n",
    "        lrelu2 = tf.nn.relu(tf.layers.batch_normalization(conv2, training=isTrain))\n",
    "\n",
    "        conv3 = tf.layers.conv2d_transpose(lrelu2, 64, [4, 4], strides=(2, 2), padding='same')\n",
    "        lrelu3 = tf.nn.relu(tf.layers.batch_normalization(conv3, training=isTrain))\n",
    "\n",
    "        conv4 = tf.layers.conv2d_transpose(lrelu3, 3, [4, 4], strides=(2, 2), padding='same')\n",
    "        out = tf.nn.tanh(conv4)\n",
    "        return out"
   ]
  },
  {
   "cell_type": "code",
   "execution_count": null,
   "metadata": {},
   "outputs": [],
   "source": [
    "X = tf.placeholder(dtype=tf.float32, shape=[None, 32, 32, 3])\n",
    "Z = tf.placeholder(dtype=tf.float32, shape=[None, 1, 1, 100])\n",
    "isTrain = tf.placeholder(dtype=tf.bool)\n",
    "G_sample = generator(Z)\n",
    "\n",
    "D_real = discriminator(X, isTrain)\n",
    "D_fake = discriminator(G_sample, isTrain, True)\n",
    "\n",
    "D_loss_fake = tf.reduce_mean(D_fake)\n",
    "D_loss_real = tf.reduce_mean(D_real)\n",
    "D_loss = D_loss_fake - D_loss_real\n",
    "G_loss = -tf.reduce_mean(D_fake)\n",
    "\n",
    "T_vars = tf.trainable_variables()\n",
    "D_vars = [var for var in T_vars if var.name.startswith('discriminator')]\n",
    "G_vars = [var for var in T_vars if var.name.startswith('generator')]\n",
    "\n",
    "D_optimizer = tf.train.RMSPropOptimizer(lr).minimize(D_loss, var_list=D_vars)\n",
    "G_optimizer = tf.train.RMSPropOptimizer(lr).minimize(G_loss, var_list=G_vars)\n",
    "clip_D_op = [var.assign(tf.clip_by_value(var, clip[0], clip[1])) for var in D_vars]\n",
    "\n",
    "sess.run(tf.global_variables_initializer())"
   ]
  },
  {
   "cell_type": "code",
   "execution_count": null,
   "metadata": {},
   "outputs": [],
   "source": [
    "for epoch in range(epoch_num):\n",
    "    for i in range(int(train_X.shape[0] / batch_size)):\n",
    "        if i < 25:\n",
    "            D_num = 25\n",
    "        else:\n",
    "            D_num = CRITIC_NUM\n",
    "            \n",
    "        for j in range(D_num):\n",
    "            Z_ = np.random.uniform(-1, 1, size=(batch_size, 1, 1, 100))\n",
    "            X_ = train_X[i*batch_size:(i+1)*batch_size]\n",
    "            _, D_loss_curr = sess.run([D_optimizer, D_loss], feed_dict={X: X_, Z: Z_, isTrain: True})\n",
    "            sess.run(clip_D_op)\n",
    "        Z_ = np.random.uniform(-1, 1, size=(batch_size, 1, 1, 100))\n",
    "        _, G_loss_curr = sess.run([G_optimizer, G_loss], feed_dict={Z: Z_, isTrain: True})\n",
    "    print('epoch {}, D_loss_curr {}, G_loss_curr {}'.format(epoch, D_loss_curr, G_loss_curr))\n",
    "    Z_demo = np.random.uniform(-1, 1, size=(20, 1, 1, 100))\n",
    "    G_display = sess.run(G_sample, feed_dict={Z: Z_demo})\n",
    "    showX(G_display, 4)"
   ]
  },
  {
   "cell_type": "code",
   "execution_count": null,
   "metadata": {},
   "outputs": [],
   "source": []
  }
 ],
 "metadata": {
  "kernelspec": {
   "display_name": "Python 3",
   "language": "python",
   "name": "python3"
  },
  "language_info": {
   "codemirror_mode": {
    "name": "ipython",
    "version": 3
   },
   "file_extension": ".py",
   "mimetype": "text/x-python",
   "name": "python",
   "nbconvert_exporter": "python",
   "pygments_lexer": "ipython3",
   "version": "3.5.2"
  }
 },
 "nbformat": 4,
 "nbformat_minor": 2
}
