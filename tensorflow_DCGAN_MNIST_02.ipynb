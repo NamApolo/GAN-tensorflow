{
 "cells": [
  {
   "cell_type": "code",
   "execution_count": 1,
   "metadata": {},
   "outputs": [
    {
     "name": "stderr",
     "output_type": "stream",
     "text": [
      "/home/ubuntu/.local/lib/python3.5/site-packages/h5py/__init__.py:36: FutureWarning: Conversion of the second argument of issubdtype from `float` to `np.floating` is deprecated. In future, it will be treated as `np.float64 == np.dtype(float).type`.\n",
      "  from ._conv import register_converters as _register_converters\n"
     ]
    }
   ],
   "source": [
    "import tensorflow as tf\n",
    "import numpy as np\n",
    "from tensorflow.examples.tutorials.mnist import input_data\n",
    "import matplotlib.pyplot as plt\n",
    "import time, itertools\n",
    "\n",
    "config = tf.ConfigProto()\n",
    "config.gpu_options.allow_growth = True\n",
    "sess = tf.Session(config = config)\n",
    "\n",
    "batch_size = 100\n",
    "num_epoch = 10\n",
    "lr = 0.0002"
   ]
  },
  {
   "cell_type": "code",
   "execution_count": 2,
   "metadata": {},
   "outputs": [],
   "source": [
    "def lrelu(x, leak=0.2, name='lrelu'):\n",
    "    return tf.maximum(x, x*leak)"
   ]
  },
  {
   "cell_type": "code",
   "execution_count": 3,
   "metadata": {},
   "outputs": [],
   "source": [
    "def discriminator(x, isTrain=True, reuse=False):\n",
    "    with tf.variable_scope('discriminator', reuse=reuse):\n",
    "        conv1 = tf.layers.conv2d(x, 128, [4, 4], strides=(2, 2), padding='same')\n",
    "        lrelu1 = lrelu(conv1)\n",
    "        \n",
    "        conv2 = tf.layers.conv2d(lrelu1, 256, [4, 4], strides=(2, 2), padding='same')\n",
    "        lrelu2 = lrelu(tf.layers.batch_normalization(conv2, training=isTrain))\n",
    "        \n",
    "        conv3 = tf.layers.conv2d(lrelu2, 512, [4, 4], strides=(2, 2), padding='same')\n",
    "        lrelu3 = lrelu(tf.layers.batch_normalization(conv3, training=isTrain))\n",
    "        \n",
    "        conv4 = tf.layers.conv2d(lrelu3, 1024, [4, 4], strides=(2, 2), padding='same')\n",
    "        lrelu4 = lrelu(tf.layers.batch_normalization(conv4, training=isTrain))\n",
    "        \n",
    "        conv5 = tf.layers.conv2d(lrelu4, 1, [4, 4], strides=(2, 2), padding='valid')\n",
    "        out = tf.nn.sigmoid(conv5)\n",
    "        return out, conv5"
   ]
  },
  {
   "cell_type": "code",
   "execution_count": 4,
   "metadata": {},
   "outputs": [],
   "source": [
    "def generator(z, isTrain=True, reuse=False):\n",
    "    with tf.variable_scope('generator', reuse=reuse):\n",
    "        conv1 = tf.layers.conv2d_transpose(z, 1024, [4, 4], strides=(1, 1), padding='valid')\n",
    "        lrelu1 = lrelu(tf.layers.batch_normalization(conv1, training=isTrain))\n",
    "        \n",
    "        conv2 = tf.layers.conv2d_transpose(lrelu1, 512, [4, 4], strides=(2, 2), padding='same')\n",
    "        lrelu2 = lrelu(tf.layers.batch_normalization(conv2, training=isTrain))\n",
    "        \n",
    "        conv3 = tf.layers.conv2d_transpose(lrelu2, 256, [4, 4], strides=(2, 2), padding='same')\n",
    "        lrelu3 = lrelu(tf.layers.batch_normalization(conv3, training=isTrain))\n",
    "        \n",
    "        conv4 = tf.layers.conv2d_transpose(lrelu3, 128, [4, 4], strides=(2, 2), padding='same')\n",
    "        lrelu4 = lrelu(tf.layers.batch_normalization(conv4, training=isTrain))\n",
    "        \n",
    "        conv5 = tf.layers.conv2d_transpose(lrelu4, 1, [4, 4], strides=(2, 2), padding='same')\n",
    "        out = tf.nn.tanh(conv5)\n",
    "        return out"
   ]
  },
  {
   "cell_type": "code",
   "execution_count": 5,
   "metadata": {},
   "outputs": [
    {
     "data": {
      "text/plain": [
       "<tf.Tensor 'G_loss:0' shape=() dtype=string>"
      ]
     },
     "execution_count": 5,
     "metadata": {},
     "output_type": "execute_result"
    }
   ],
   "source": [
    "X = tf.placeholder(dtype=tf.float32, shape=[None, 64, 64, 1])\n",
    "Z = tf.placeholder(dtype=tf.float32, shape=[None, 1, 1, 100])\n",
    "isTrain = tf.placeholder(dtype=tf.bool)\n",
    "\n",
    "G_sample = generator(Z, isTrain)\n",
    "\n",
    "D_real, D_real_logit = discriminator(X, isTrain)\n",
    "D_fake, D_fake_logit = discriminator(G_sample, isTrain, True)\n",
    "\n",
    "# sigmoid_cross_entropy_with_logits会给logits做softmax，所以我们需要在discriminator中返回logits\n",
    "D_real_loss = tf.reduce_mean(tf.nn.sigmoid_cross_entropy_with_logits(logits=D_real_logit,\n",
    "                                                                     labels=tf.ones_like(D_real_logit)))\n",
    "D_fake_loss = tf.reduce_mean(tf.nn.sigmoid_cross_entropy_with_logits(logits=D_fake_logit,\n",
    "                                                                     labels=tf.zeros_like(D_fake_logit)))\n",
    "D_loss = D_real_loss + D_fake_loss\n",
    "\n",
    "G_loss = tf.reduce_mean(tf.nn.sigmoid_cross_entropy_with_logits(logits=D_fake_logit,\n",
    "                                                                labels=tf.ones_like(D_fake_logit)))\n",
    "\n",
    "T_vars = tf.trainable_variables()\n",
    "D_vars = [var for var in T_vars if var.name.startswith('discriminator')]\n",
    "G_vars = [var for var in T_vars if var.name.startswith('generator')]\n",
    "\n",
    "D_optimizer = tf.train.AdamOptimizer(lr, beta1=0.5).minimize(D_loss, var_list=D_vars)\n",
    "G_optimizer = tf.train.AdamOptimizer(lr, beta1=0.5).minimize(G_loss, var_list=G_vars)\n",
    "\n",
    "tf.summary.scalar('D_loss', D_loss)\n",
    "tf.summary.scalar('G_loss', G_loss)"
   ]
  },
  {
   "cell_type": "code",
   "execution_count": 6,
   "metadata": {},
   "outputs": [],
   "source": [
    "log_dir = '../summary/graph'\n",
    "merged = tf.summary.merge_all()\n",
    "train_writer = tf.summary.FileWriter(log_dir + '/train', sess.graph)\n",
    "\n",
    "sess.run(tf.global_variables_initializer())\n",
    "np.random.seed(int(time.time()))"
   ]
  },
  {
   "cell_type": "code",
   "execution_count": 7,
   "metadata": {},
   "outputs": [
    {
     "name": "stdout",
     "output_type": "stream",
     "text": [
      "Extracting ../data/MNIST_data/train-images-idx3-ubyte.gz\n",
      "Extracting ../data/MNIST_data/train-labels-idx1-ubyte.gz\n",
      "Extracting ../data/MNIST_data/t10k-images-idx3-ubyte.gz\n",
      "Extracting ../data/MNIST_data/t10k-labels-idx1-ubyte.gz\n"
     ]
    }
   ],
   "source": [
    "mnist = input_data.read_data_sets('../data/MNIST_data', one_hot=True, reshape=[])\n",
    "train_set = tf.image.resize_images(mnist.train.images, [64, 64]).eval(session=sess)\n",
    "train_set = (train_set - 0.5) / 0.5"
   ]
  },
  {
   "cell_type": "code",
   "execution_count": 8,
   "metadata": {},
   "outputs": [],
   "source": [
    "def plot(datas):\n",
    "    plt.figure(figsize=(30, 30))\n",
    "    for i in range(len(datas)):\n",
    "        plt.subplot(16, 8, i + 1)\n",
    "        plt.imshow(np.reshape(datas[i], (64, 64)), cmap='gray')\n",
    "        plt.axis('off')\n",
    "    plt.subplots_adjust(wspace =0, hspace =0)\n",
    "    plt.show()"
   ]
  },
  {
   "cell_type": "code",
   "execution_count": 9,
   "metadata": {},
   "outputs": [],
   "source": [
    "fixed_z = np.random.normal(0, 1, (25, 1, 1, 100))\n",
    "def show_result(num_epoch, show=False, save=False, path='result-test.png'):\n",
    "    test_images = sess.run(G_sample, feed_dict={Z:fixed_z, isTrain:False})\n",
    "    \n",
    "    size_figure_grid = 5\n",
    "    fig, ax = plt.subplots(size_figure_grid, size_figure_grid, figsize=(5, 5))\n",
    "    for i, j in itertools.product(range(size_figure_grid), range(size_figure_grid)):\n",
    "        ax[i, j].get_xaxis().set_visible(False)\n",
    "        ax[i, j].get_yaxis().set_visible(False)\n",
    "        \n",
    "    for k in range(size_figure_grid * size_figure_grid):\n",
    "        i = k // size_figure_grid\n",
    "        j = k % size_figure_grid\n",
    "        ax[i, j].cla()\n",
    "        ax[i, j].imshow(np.reshape(test_images[k], (64, 64)), cmap='gray')\n",
    "        \n",
    "    label = 'Epoch {}'.format(num_epoch)\n",
    "    fig.text(0.5, 0.04, label, ha='center')\n",
    "\n",
    "    if save:\n",
    "        plt.savefig(path)\n",
    "    if show:\n",
    "        plt.show()\n",
    "    else:\n",
    "        plt.close()"
   ]
  },
  {
   "cell_type": "code",
   "execution_count": 14,
   "metadata": {},
   "outputs": [
    {
     "name": "stdout",
     "output_type": "stream",
     "text": [
      "i 0, D_loss 0.5232036709785461 G_loss 3.4085400104522705\n",
      "i 1, D_loss 0.5357067584991455 G_loss 3.3828465938568115\n",
      "i 2, D_loss 0.1861976534128189 G_loss 6.957078456878662\n",
      "i 3, D_loss 0.44939014315605164 G_loss 3.9451053142547607\n",
      "i 4, D_loss 0.41956207156181335 G_loss 3.8183064460754395\n",
      "i 5, D_loss 0.4272448718547821 G_loss 4.014602184295654\n",
      "i 6, D_loss 0.3636464476585388 G_loss 4.720570087432861\n",
      "i 7, D_loss 0.4718671143054962 G_loss 3.672618865966797\n",
      "i 8, D_loss 0.4818500280380249 G_loss 3.832390785217285\n",
      "i 9, D_loss 0.2419673502445221 G_loss 5.054630279541016\n"
     ]
    }
   ],
   "source": [
    "for i in range(num_epoch):\n",
    "    G_losses = []\n",
    "    D_losses = []\n",
    "    for iter in range(mnist.train.num_examples // batch_size):\n",
    "        X_batch = train_set[iter*batch_size:(iter+1)*batch_size]\n",
    "        Z_batch = np.random.normal(0, 1, (batch_size, 1, 1, 100))\n",
    "        _, D_loss_curr = sess.run([D_optimizer, D_loss], feed_dict={X: X_batch, Z: Z_batch, isTrain: True})\n",
    "        \n",
    "        Z_batch = np.random.normal(0, 1, (batch_size, 1, 1, 100))\n",
    "        _, G_loss_curr = sess.run([G_optimizer, G_loss], feed_dict={Z: Z_batch, isTrain: True})\n",
    "        Z_batch = np.random.normal(0, 1, (batch_size, 1, 1, 100))\n",
    "        _, G_loss_curr = sess.run([G_optimizer, G_loss], feed_dict={Z: Z_batch, isTrain: True})\n",
    "        \n",
    "        G_losses.append(G_loss_curr)\n",
    "        D_losses.append(D_loss_curr)\n",
    "        \n",
    "    Z_batch = np.random.normal(0, 1, (batch_size, 1, 1, 100))\n",
    "    print('i {}, D_loss {} G_loss {}'.format(i, np.mean(D_losses), np.mean(G_losses)))\n",
    "    fixed_p = 'Fixed_results_stesha' + str(i + 1) + '.png'\n",
    "    show_result((i + 1), save=True, path=fixed_p)\n",
    "    \n",
    "    summary_str = sess.run(merged, feed_dict={X: X_batch, Z: Z_batch, isTrain: False})\n",
    "    train_writer.add_summary(summary_str, i)\n",
    "train_writer.close()"
   ]
  },
  {
   "cell_type": "code",
   "execution_count": null,
   "metadata": {},
   "outputs": [],
   "source": []
  }
 ],
 "metadata": {
  "kernelspec": {
   "display_name": "Python 3",
   "language": "python",
   "name": "python3"
  },
  "language_info": {
   "codemirror_mode": {
    "name": "ipython",
    "version": 3
   },
   "file_extension": ".py",
   "mimetype": "text/x-python",
   "name": "python",
   "nbconvert_exporter": "python",
   "pygments_lexer": "ipython3",
   "version": "3.5.2"
  }
 },
 "nbformat": 4,
 "nbformat_minor": 2
}
