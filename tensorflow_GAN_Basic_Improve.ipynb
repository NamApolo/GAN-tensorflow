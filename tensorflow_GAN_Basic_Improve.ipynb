{
 "cells": [
  {
   "cell_type": "code",
   "execution_count": 1,
   "metadata": {},
   "outputs": [
    {
     "name": "stderr",
     "output_type": "stream",
     "text": [
      "/home/ubuntu/.local/lib/python3.5/site-packages/h5py/__init__.py:36: FutureWarning: Conversion of the second argument of issubdtype from `float` to `np.floating` is deprecated. In future, it will be treated as `np.float64 == np.dtype(float).type`.\n",
      "  from ._conv import register_converters as _register_converters\n"
     ]
    }
   ],
   "source": [
    "import tensorflow as tf\n",
    "import numpy as np\n",
    "from tensorflow.examples.tutorials.mnist import input_data\n",
    "import matplotlib.pyplot as plt\n",
    "\n",
    "config = tf.ConfigProto()\n",
    "config.gpu_options.allow_growth = True\n",
    "sess = tf.Session(config = config)"
   ]
  },
  {
   "cell_type": "code",
   "execution_count": 2,
   "metadata": {},
   "outputs": [],
   "source": [
    "def sample_Z(m, n):\n",
    "    return np.random.uniform(-1., 1., size=(m, n)).astype('float32')"
   ]
  },
  {
   "cell_type": "code",
   "execution_count": 3,
   "metadata": {},
   "outputs": [],
   "source": [
    "def weights_variable(shape):\n",
    "    return tf.Variable(initial_value=tf.truncated_normal(shape, stddev=0.1))\n",
    "\n",
    "def bias_variable(shape):\n",
    "    return tf.Variable(tf.constant(0.1, shape=shape))\n",
    "\n",
    "def conv2d(x, w):\n",
    "    return tf.nn.conv2d(x, w, strides=[1, 1, 1, 1], padding='SAME')\n",
    "\n",
    "def max_pool_2(x):\n",
    "    return tf.nn.max_pool(x, ksize=[1, 2, 2, 1], strides=[1, 2, 2, 1], padding='SAME')"
   ]
  },
  {
   "cell_type": "code",
   "execution_count": 4,
   "metadata": {},
   "outputs": [],
   "source": [
    "X = tf.placeholder(dtype=tf.float32, shape=[None, 784])\n",
    "\n",
    "D_conv1_W = weights_variable([5, 5, 1, 64])\n",
    "D_conv1_b = bias_variable([64])\n",
    "\n",
    "D_conv2_W = weights_variable([5, 5, 64, 128])\n",
    "D_conv2_b = bias_variable([128])\n",
    "\n",
    "D_fc1_W = weights_variable([6272, 1024])\n",
    "D_fc1_b = bias_variable([1024])\n",
    "\n",
    "D_fc2_W = weights_variable([1024, 1])\n",
    "D_fc2_b = bias_variable([1])\n",
    "\n",
    "#thelta_D = [D_W1, D_b1, D_W2, D_b2]\n",
    "\n",
    "Z = tf.placeholder(dtype=tf.float32, shape=[None, 100])\n",
    "\n",
    "G_fc1_W = weights_variable([100, 1024])\n",
    "G_fc1_b = bias_variable([1024])\n",
    "\n",
    "G_fc2_W = weights_variable([1024, 6272])\n",
    "G_fc2_b = bias_variable([6272])\n",
    "\n",
    "G_conv1_W = weights_variable([5, 5, 128, 128])\n",
    "G_conv1_b = bias_variable([128])\n",
    "\n",
    "G_conv2_W = weights_variable([5, 5, 128, 64])\n",
    "G_conv2_b = bias_variable([64])\n",
    "\n",
    "G_conv3_W = weights_variable([5, 5, 64, 64])\n",
    "G_conv3_b = bias_variable([64])\n",
    "\n",
    "G_conv4_W = weights_variable([5, 5, 64, 1])\n",
    "G_conv4_b = bias_variable([1])\n",
    "\n",
    "#thelta_G = [G_fc1_W, G_fc1_b, G_fc2_W, G_fc2_b, G_conv1_W, G_conv1_b, G_conv2_W, G_conv2_b, G_conv3_W, G_conv3_b, G_conv4_W, G_conv4_b]"
   ]
  },
  {
   "cell_type": "code",
   "execution_count": 5,
   "metadata": {},
   "outputs": [],
   "source": [
    "def discriminator(x):\n",
    "    # CONV1 28*28*1 -> CONV2 28*28*64 -> POOL2 14*14*64 -> CONV3 14*14*128 -> POOL3 7*7*128 -> FC1 1024 -> FC2 1\n",
    "    x_plus = tf.reshape(x, [-1, 28, 28, 1])\n",
    "    D_conv1_h = tf.nn.relu(conv2d(x_plus, D_conv1_W) + D_conv1_b)\n",
    "    D_conv1_pool = max_pool_2(D_conv1_h)\n",
    "    D_conv2_h = tf.nn.relu(conv2d(D_conv1_pool, D_conv2_W) + D_conv2_b)\n",
    "    D_conv2_pool = max_pool_2(D_conv2_h)\n",
    "    \n",
    "    D_fc1_in = tf.reshape(D_conv2_pool, [-1, 7*7*128])\n",
    "    D_fc1_h = tf.nn.relu(tf.matmul(D_fc1_in, D_fc1_W) + D_fc1_b)\n",
    "    D_prob_logit = tf.matmul(D_fc1_h, D_fc2_W) + D_fc2_b\n",
    "    D_prob = tf.nn.relu(D_prob_logit)\n",
    "    return D_prob, D_prob_logit"
   ]
  },
  {
   "cell_type": "code",
   "execution_count": 6,
   "metadata": {},
   "outputs": [],
   "source": [
    "def generator(z):\n",
    "    # FC1 100 -> FC2 1024 -> FC3 6272 -> 7*7*128 -> CONV1 14*14*128 -> CONV2 14*14*64 -> conv3 28*28*64 -> conv4 28*28*1\n",
    "    G_fc1_h = tf.nn.relu(tf.matmul(z, G_fc1_W) + G_fc1_b)\n",
    "    G_fc2_h = tf.nn.relu(tf.matmul(G_fc1_h, G_fc2_W) + G_fc2_b)\n",
    "    G_fc2_h_plus = tf.reshape(G_fc2_h, [-1, 7, 7, 128])\n",
    "    G_conv1_h = tf.layers.conv2d_transpose(G_fc2_h_plus, 128, kernel_size=5, strides=2, padding='same', activation=tf.nn.relu)\n",
    "    G_conv2_h = tf.nn.relu(conv2d(G_conv1_h, G_conv2_W) + G_conv2_b)\n",
    "    G_conv3_h = tf.layers.conv2d_transpose(G_conv2_h, 64, kernel_size=5, strides=2, padding='same', activation=tf.nn.relu)\n",
    "    G_conv4_h = tf.nn.relu(conv2d(G_conv3_h, G_conv4_W) + G_conv4_b)\n",
    "    return G_conv4_h"
   ]
  },
  {
   "cell_type": "code",
   "execution_count": 7,
   "metadata": {},
   "outputs": [
    {
     "name": "stdout",
     "output_type": "stream",
     "text": [
      "Tensor(\"conv2d_transpose/Relu:0\", shape=(?, 14, 14, 128), dtype=float32)\n",
      "Tensor(\"Relu_3:0\", shape=(?, 28, 28, 1), dtype=float32)\n"
     ]
    }
   ],
   "source": [
    "G_sample = generator(Z)\n",
    "D_sample = discriminator(X)\n",
    "\n",
    "D_real, D_real_logit = discriminator(X)\n",
    "D_fake, D_fake_logit = discriminator(G_sample)\n",
    "\n",
    "# sigmoid_cross_entropy_with_logits会给logits做softmax，所以我们需要在discriminator中返回logits\n",
    "D_real_loss = tf.reduce_mean(tf.nn.sigmoid_cross_entropy_with_logits(logits=D_real_logit, labels=tf.ones_like(D_real_logit)))\n",
    "D_fake_loss = tf.reduce_mean(tf.nn.sigmoid_cross_entropy_with_logits(logits=D_fake_logit, labels=tf.zeros_like(D_fake_logit)))\n",
    "D_loss = D_real_loss + D_fake_loss\n",
    "\n",
    "G_loss = tf.reduce_mean(tf.nn.sigmoid_cross_entropy_with_logits(logits=D_fake_logit, labels=tf.ones_like(D_fake_logit)))\n",
    "\n",
    "D_optimizer = tf.train.AdamOptimizer().minimize(D_loss)\n",
    "G_optimizer = tf.train.AdamOptimizer().minimize(G_loss)"
   ]
  },
  {
   "cell_type": "code",
   "execution_count": 8,
   "metadata": {},
   "outputs": [
    {
     "name": "stdout",
     "output_type": "stream",
     "text": [
      "Extracting ../data/MNIST_data/train-images-idx3-ubyte.gz\n",
      "Extracting ../data/MNIST_data/train-labels-idx1-ubyte.gz\n",
      "Extracting ../data/MNIST_data/t10k-images-idx3-ubyte.gz\n",
      "Extracting ../data/MNIST_data/t10k-labels-idx1-ubyte.gz\n"
     ]
    }
   ],
   "source": [
    "mnist = input_data.read_data_sets('../data/MNIST_data', one_hot=True)\n",
    "batch_size = 128\n",
    "in_dim = 100"
   ]
  },
  {
   "cell_type": "code",
   "execution_count": 9,
   "metadata": {},
   "outputs": [],
   "source": [
    "def plot(datas):\n",
    "    for i in range(len(datas)):\n",
    "        image = datas[i].reshape(28, 28)\n",
    "        plt.subplot(2, 5, i + 1)\n",
    "        plt.imshow(image)\n",
    "        plt.axis('off')\n",
    "    plt.show()"
   ]
  },
  {
   "cell_type": "code",
   "execution_count": 18,
   "metadata": {},
   "outputs": [
    {
     "data": {
      "image/png": "[encoded data removed]",
      "text/plain": [
       "<Figure size 432x288 with 10 Axes>"
      ]
     },
     "metadata": {},
     "output_type": "display_data"
    },
    {
     "name": "stdout",
     "output_type": "stream",
     "text": [
      "i 99, D_loss 17.148088455200195, G_loss 0.39448681473731995\n"
     ]
    },
    {
     "data": {
      "image/png": "[encoded data removed]",
      "text/plain": [
       "<Figure size 432x288 with 10 Axes>"
      ]
     },
     "metadata": {},
     "output_type": "display_data"
    },
    {
     "name": "stdout",
     "output_type": "stream",
     "text": [
      "i 199, D_loss 16.545976638793945, G_loss 0.38169002532958984\n"
     ]
    },
    {
     "data": {
      "image/png": "[encoded data removed]",
      "text/plain": [
       "<Figure size 432x288 with 10 Axes>"
      ]
     },
     "metadata": {},
     "output_type": "display_data"
    },
    {
     "name": "stdout",
     "output_type": "stream",
     "text": [
      "i 299, D_loss 15.2398042678833, G_loss 0.38072481751441956\n"
     ]
    },
    {
     "data": {
      "image/png": "[encoded data removed]",
      "text/plain": [
       "<Figure size 432x288 with 10 Axes>"
      ]
     },
     "metadata": {},
     "output_type": "display_data"
    },
    {
     "name": "stdout",
     "output_type": "stream",
     "text": [
      "i 399, D_loss 14.20578384399414, G_loss 0.37957391142845154\n"
     ]
    },
    {
     "data": {
      "image/png": "[encoded data removed]",
      "text/plain": [
       "<Figure size 432x288 with 10 Axes>"
      ]
     },
     "metadata": {},
     "output_type": "display_data"
    },
    {
     "name": "stdout",
     "output_type": "stream",
     "text": [
      "i 499, D_loss 13.817251205444336, G_loss 0.3786866366863251\n"
     ]
    },
    {
     "data": {
      "image/png": "[encoded data removed]",
      "text/plain": [
       "<Figure size 432x288 with 10 Axes>"
      ]
     },
     "metadata": {},
     "output_type": "display_data"
    },
    {
     "name": "stdout",
     "output_type": "stream",
     "text": [
      "i 599, D_loss 13.640664100646973, G_loss 0.37862449884414673\n"
     ]
    },
    {
     "data": {
      "image/png": "[encoded data removed]",
      "text/plain": [
       "<Figure size 432x288 with 10 Axes>"
      ]
     },
     "metadata": {},
     "output_type": "display_data"
    },
    {
     "name": "stdout",
     "output_type": "stream",
     "text": [
      "i 699, D_loss 13.515401840209961, G_loss 0.3786044120788574\n"
     ]
    },
    {
     "data": {
      "image/png": "[encoded data removed]",
      "text/plain": [
       "<Figure size 432x288 with 10 Axes>"
      ]
     },
     "metadata": {},
     "output_type": "display_data"
    },
    {
     "name": "stdout",
     "output_type": "stream",
     "text": [
      "i 799, D_loss 13.421422004699707, G_loss 0.3786643147468567\n"
     ]
    },
    {
     "data": {
      "image/png": "[encoded data removed]",
      "text/plain": [
       "<Figure size 432x288 with 10 Axes>"
      ]
     },
     "metadata": {},
     "output_type": "display_data"
    },
    {
     "name": "stdout",
     "output_type": "stream",
     "text": [
      "i 899, D_loss 13.353548049926758, G_loss 0.37876906991004944\n"
     ]
    },
    {
     "data": {
      "image/png": "[encoded data removed]",
      "text/plain": [
       "<Figure size 432x288 with 10 Axes>"
      ]
     },
     "metadata": {},
     "output_type": "display_data"
    },
    {
     "name": "stdout",
     "output_type": "stream",
     "text": [
      "i 999, D_loss 13.307902336120605, G_loss 0.37889930605888367\n"
     ]
    }
   ],
   "source": [
    "for i in range(1000):\n",
    "    X_batch, _ = mnist.train.next_batch(batch_size)\n",
    "    _, D_loss_curr = sess.run([D_optimizer, D_loss], feed_dict={X: X_batch, Z: sample_Z(batch_size, in_dim)})\n",
    "    _, G_loss_curr = sess.run([G_optimizer, G_loss], feed_dict={Z: sample_Z(batch_size, in_dim)})\n",
    "    if (i+1) % 100 == 0:\n",
    "        G_display = sess.run(G_sample, feed_dict={Z: sample_Z(10, in_dim)})\n",
    "        plot(G_display)\n",
    "        print('i {}, D_loss {}, G_loss {}'.format(i, D_loss_curr, G_loss_curr))"
   ]
  },
  {
   "cell_type": "code",
   "execution_count": 15,
   "metadata": {},
   "outputs": [
    {
     "data": {
      "image/png": "[encoded data removed]",
      "text/plain": [
       "<Figure size 432x288 with 10 Axes>"
      ]
     },
     "metadata": {},
     "output_type": "display_data"
    },
    {
     "name": "stdout",
     "output_type": "stream",
     "text": [
      "i 0, D_loss 0.0, G_loss 0.0\n"
     ]
    }
   ],
   "source": [
    "sess.run(tf.global_variables_initializer())\n",
    "point = 100\n",
    "\n",
    "for i in range(10):\n",
    "    for j in range(0, 200):\n",
    "        if j < 100:\n",
    "            X_batch, _ = mnist.train.next_batch(batch_size)\n",
    "            _, D_loss_curr = sess.run([D_optimizer, D_loss], feed_dict={X: X_batch, Z: sample_Z(batch_size, in_dim)})\n",
    "        else:\n",
    "            _, G_loss_curr = sess.run([G_optimizer, G_loss], feed_dict={Z: sample_Z(batch_size, in_dim)})\n",
    "    if i % 100 == 0:\n",
    "        G_display = sess.run(G_sample, feed_dict={Z: sample_Z(10, in_dim)})\n",
    "        plot(G_display)\n",
    "        print('i {}, D_loss {}, G_loss {}'.format(i, D_loss_curr, G_loss_curr))"
   ]
  },
  {
   "cell_type": "code",
   "execution_count": null,
   "metadata": {},
   "outputs": [],
   "source": []
  }
 ],
 "metadata": {
  "kernelspec": {
   "display_name": "Python 3",
   "language": "python",
   "name": "python3"
  },
  "language_info": {
   "codemirror_mode": {
    "name": "ipython",
    "version": 3
   },
   "file_extension": ".py",
   "mimetype": "text/x-python",
   "name": "python",
   "nbconvert_exporter": "python",
   "pygments_lexer": "ipython3",
   "version": "3.5.2"
  }
 },
 "nbformat": 4,
 "nbformat_minor": 2
}
